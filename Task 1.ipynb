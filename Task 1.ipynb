{
 "cells": [
  {
   "cell_type": "code",
   "execution_count": 2,
   "id": "6aae53a9",
   "metadata": {},
   "outputs": [
    {
     "name": "stdout",
     "output_type": "stream",
     "text": [
      "welcome to the Tempreature Converter!\n",
      "Which conversion would you like to perform?\n",
      "1. Celsius to Fahrenheit\n",
      "2. Fahrenheit to Celsius\n",
      "100.0°C = 212.0°F\n",
      "Welcome to the Tempreature Converter\n",
      "Thank you for using the Tempreature Converter!\n"
     ]
    }
   ],
   "source": [
    "\n",
    "print(\"welcome to the Tempreature Converter!\")\n",
    "\n",
    "while True:\n",
    "    print(\"Which conversion would you like to perform?\")\n",
    "    print(\"1. Celsius to Fahrenheit\")\n",
    "    print(\"2. Fahrenheit to Celsius\")\n",
    "    choice = input(\"Enter 1 or 2\")\n",
    "\n",
    "    if choice == '1':\n",
    "\n",
    "        Celsius = float(input(\"Enter the tempreature in Celsius\"))\n",
    "\n",
    "        Fahrenheit = (Celsius * 9 / 5) + 32\n",
    "\n",
    "        print(f\"{Celsius}°C = {Fahrenheit}°F\")\n",
    "\n",
    "    elif choice == '2':\n",
    "\n",
    "        Fahrenheit = float(input(\"Enter the tempreature in Fahrenheit\"))\n",
    "\n",
    "        Celsius = (Fahrenheit-32) * 5 / 9\n",
    "\n",
    "        print(f\"{Fahrenheit}°F = {Celsius}°C\")\n",
    "\n",
    "    else:\n",
    "        print(\"Invalid choice! Please enter 1 or 2\")\n",
    "        continue    \n",
    "\n",
    "    repeat = input(\"Do you want to do another conversion? yes/no\")\n",
    "    print(\"Welcome to the Tempreature Converter\")\n",
    "\n",
    "    if repeat != 'yes':\n",
    "        print(\"Thank you for using the Tempreature Converter!\")\n",
    "        break"
   ]
  },
  {
   "cell_type": "code",
   "execution_count": null,
   "id": "85800d9e",
   "metadata": {},
   "outputs": [],
   "source": []
  }
 ],
 "metadata": {
  "kernelspec": {
   "display_name": "Python 3",
   "language": "python",
   "name": "python3"
  },
  "language_info": {
   "codemirror_mode": {
    "name": "ipython",
    "version": 3
   },
   "file_extension": ".py",
   "mimetype": "text/x-python",
   "name": "python",
   "nbconvert_exporter": "python",
   "pygments_lexer": "ipython3",
   "version": "3.13.7"
  }
 },
 "nbformat": 4,
 "nbformat_minor": 5
}
